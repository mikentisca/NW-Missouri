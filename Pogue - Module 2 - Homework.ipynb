{
 "cells": [
  {
   "cell_type": "markdown",
   "metadata": {},
   "source": [
    "# Web Mining and Applied NLP (44-620)\n",
    "\n",
    "## Python Notebooks, Basics, and Data Structures\n",
    "\n",
    "### Student Name: Michael Pogue\n",
    "\n",
    "Perform the tasks described in the Markdown cells below.  When you have completed the assignment make sure your code cells have all been run (and have output beneath them) and ensure you have committed and pushed ALL of your changes to your assignment repository.\n",
    "\n",
    "Every question that requires you to write code will have a code cell underneath it; you may either write your entire solution in that cell or write it in a python file (`.py`), then import and run the appropriate code to answer the question.\n",
    "\n",
    "Do not use external modules (`math`, etc) for this assignment unless you are explicitly instructed to, though you may use built in python functions (`min`, `max`, etc) as you wish."
   ]
  },
  {
   "cell_type": "markdown",
   "metadata": {},
   "source": [
    "1. Modify the Markdown cell above to put your name after \"Student Name:\"; you will be expected to do this in all assignments presented in this format for this class."
   ]
  },
  {
   "cell_type": "markdown",
   "metadata": {},
   "source": [
    "2. Write code that divides any two numbers, stores the result in a variable, and prints the result with an appropriate label."
   ]
  },
  {
   "cell_type": "code",
   "execution_count": 30,
   "metadata": {},
   "outputs": [
    {
     "name": "stdout",
     "output_type": "stream",
     "text": [
      "0.5\n"
     ]
    }
   ],
   "source": [
    "X = 1\n",
    "Y = 2\n",
    "math = X/Y\n",
    "print(math)"
   ]
  },
  {
   "cell_type": "markdown",
   "metadata": {},
   "source": [
    "3. Using loops (and potentially conditionals), write Python code that prints the factorial of each integer from 1 through 10 (which you can store in a variable if you want). The factorial of an integer is the product of all of the integers of 1 through the number. Print the result with an appropriate label."
   ]
  },
  {
   "cell_type": "code",
   "execution_count": 31,
   "metadata": {},
   "outputs": [
    {
     "name": "stdout",
     "output_type": "stream",
     "text": [
      "Intergers 1 through 10:\n",
      "1 2 3 4 5 6 7 8 9 10 "
     ]
    }
   ],
   "source": [
    "print(\"Intergers 1 through 10:\")\n",
    "\n",
    "for i in range(1,11):    \n",
    "    print(i, end=' ')"
   ]
  },
  {
   "cell_type": "code",
   "execution_count": 32,
   "metadata": {},
   "outputs": [
    {
     "name": "stdout",
     "output_type": "stream",
     "text": [
      "Numbers from 1 to 10:\n",
      "1 2 3 4 5 6 7 8 9 10 "
     ]
    }
   ],
   "source": [
    "print('Numbers from 1 to 10:')\n",
    "n = 1\n",
    "while n <= 10:\n",
    "   print(n, end=' ')\n",
    "   n = n+1"
   ]
  },
  {
   "cell_type": "markdown",
   "metadata": {},
   "source": [
    "4. Write a python function that takes a single parameter and calculates and returns the average (mean) of the values in the parameter (which you may assume is iterable).  Show that your function works by printing the result of calling the function on the list in the cell below."
   ]
  },
  {
   "cell_type": "code",
   "execution_count": 33,
   "metadata": {},
   "outputs": [
    {
     "name": "stdout",
     "output_type": "stream",
     "text": [
      "0\n"
     ]
    }
   ],
   "source": [
    "import statistics as st\n",
    "testlist = [1,-1,2,-2,3,-3,4,-4]\n",
    "\n",
    "print(st.mean(testlist))"
   ]
  },
  {
   "cell_type": "markdown",
   "metadata": {},
   "source": [
    "5. Using your mean function above, write a function that calculates the variance of the list of numbers (see https://en.wikipedia.org/wiki/Variance for more information on the formula). In short:\n",
    "* subtract the mean of the elements in the list from every element in the list; store these values in a new list\n",
    "* square every element in the new list and sum the elements together\n",
    "* divide the resulting number by N (where N is the length of the original list)\n",
    "\n",
    "Show the result of calling your function in the lists in the code cell. You must use one or more list comprehensions or map/filter in your code.\n"
   ]
  },
  {
   "cell_type": "code",
   "execution_count": 34,
   "metadata": {},
   "outputs": [],
   "source": [
    "list1 = [ 5.670e-1, -1.480e+0, -5.570e-1, -1.470e+0, 7.340e-1, 1.050e+0, 4.480e-1, 2.570e-1, -1.970e+0, -1.460e+0]\n",
    "list2 = [-1.780e+0, 2.640e-1, 1.160e+0, 9.080e-1, 1.780e+0, 1.080e+0, 1.050e+0, -4.630e-2, 1.520e+0, 5.350e-1]\n",
    "# the variances of both lists should be relatively close to 1 (off by less than .15)"
   ]
  },
  {
   "cell_type": "code",
   "execution_count": 35,
   "metadata": {},
   "outputs": [
    {
     "name": "stdout",
     "output_type": "stream",
     "text": [
      "1.2663701\n"
     ]
    }
   ],
   "source": [
    "                                    print(st.variance(list1))"
   ]
  },
  {
   "cell_type": "markdown",
   "metadata": {},
   "source": [
    "6. Create a list with at least 15 elements in it. Use list slicing to print the following:\n",
    "* The first 5 elements of the list\n",
    "* The last 5 elements of the list\n",
    "* The list reversed (hint, show the entire list with a stride of -1)\n",
    "* Every second element in the list\n",
    "* Every third element in the list (stride of 3)"
   ]
  },
  {
   "cell_type": "code",
   "execution_count": 36,
   "metadata": {},
   "outputs": [
    {
     "name": "stdout",
     "output_type": "stream",
     "text": [
      "The original list is: [6, 9, 11, 6, 2, 9, 15, 0, 2, 13, 14, 0, 10, 11, 9]\n",
      "\n",
      "The first five items are: [6, 9, 11, 6, 2]\n",
      "\n",
      "The last five items are: [14, 0, 10, 11, 9]\n",
      "\n",
      "The reverse: [9, 11, 10, 0, 14, 13, 2, 0, 15, 9, 2, 6, 11, 9, 6]\n",
      "\n",
      "Every other: [9, 6, 9, 0, 13, 0, 11]\n",
      "\n",
      "Every third: [11, 9, 2, 0, 9]\n"
     ]
    }
   ],
   "source": [
    "import random\n",
    "\n",
    "list = []\n",
    "for i in range(0, 15):\n",
    "    list.append(random.randint(0, 15))\n",
    "\n",
    "print(\"The original list is:\", list)\n",
    "    \n",
    "# First 5:\n",
    "print(\"\\nThe first five items are:\", list[:5])\n",
    "\n",
    "# Last 5:\n",
    "print(\"\\nThe last five items are:\", list[-5:])\n",
    "\n",
    "# Reverse:\n",
    "print(\"\\nThe reverse:\", list[::-1])\n",
    "    \n",
    "#Every other:\n",
    "print(\"\\nEvery other:\", list[1::2])\n",
    "\n",
    "#Every third:\n",
    "print(\"\\nEvery third:\", list[2::3])"
   ]
  },
  {
   "cell_type": "markdown",
   "metadata": {},
   "source": [
    "7. Build a dictionary that contains the following information about this class (with appropriate names as keys):\n",
    "* The name\n",
    "* The course number\n",
    "* The semester/term in which you are taking this course\n",
    "* The number of credit hours this course counts for\n",
    "* A list of the course learning objectives\n",
    "\n",
    "The majority of this information can be found in the syllabus. Print the dictionary."
   ]
  },
  {
   "cell_type": "code",
   "execution_count": 37,
   "metadata": {},
   "outputs": [
    {
     "name": "stdout",
     "output_type": "stream",
     "text": [
      "{'Name': 'WEB MINING & APPLIED NLP 80/81/82FA22', 'Course Number': '44-620', 'Semester/Tearm': 'Fall/22', 'Credits': 3, 'Objectives': {'L01.': 'Manage Python libraries and packages.', 'L02.': 'Interact with Hosted Version Control Systems.', 'L03.': 'Prammatically obtain and transform data from web-based APIs and HTLM pages into a usable form.', 'L04.': 'Describe the steps in a basic Natural Language Processing Pipeline.', 'L05.': 'Use preexisting tools and software libraries to perform some Natural Language Processing, such as sentiment analysis.', 'L06.': 'Explain results and conclusions drawn from the visualized information.'}}\n"
     ]
    }
   ],
   "source": [
    "class_info = {\n",
    "    'Name': 'WEB MINING & APPLIED NLP 80/81/82FA22',\n",
    "    'Course Number': '44-620',\n",
    "    'Semester/Tearm': 'Fall/22',\n",
    "    'Credits': 3,\n",
    "    'Objectives': {\n",
    "        'L01.': 'Manage Python libraries and packages.',\n",
    "        'L02.': 'Interact with Hosted Version Control Systems.',\n",
    "        'L03.': 'Prammatically obtain and transform data from web-based APIs and HTLM pages into a usable form.',\n",
    "        'L04.': 'Describe the steps in a basic Natural Language Processing Pipeline.',\n",
    "        'L05.': 'Use preexisting tools and software libraries to perform some Natural Language Processing, such as sentiment analysis.',\n",
    "        'L06.': 'Explain results and conclusions drawn from the visualized information.',\n",
    "        }\n",
    "    }\n",
    "\n",
    "print(class_info)"
   ]
  },
  {
   "cell_type": "markdown",
   "metadata": {},
   "source": [
    "8.  Given the dictionary defined in the code cell below, print the list of level 3 spells the character has."
   ]
  },
  {
   "cell_type": "code",
   "execution_count": 38,
   "metadata": {},
   "outputs": [
    {
     "name": "stdout",
     "output_type": "stream",
     "text": [
      "['Mass Healing Word', 'Nondetection', 'Revivify', 'Feign Death', 'Speak with Dead']\n"
     ]
    }
   ],
   "source": [
    "player_character = {'name': 'Kitab',\n",
    "                   'class': [('Cleric: Knowledge', 7)],\n",
    "                   'spells': {'cantrip': ['Guidance', 'Light', 'Thaumaturgy', 'Toll the Dead', 'Word of Radiance'],\n",
    "                             'level 1': ['Command', 'Detect Magic', 'Healing Word', 'Identify', 'Sleep'],\n",
    "                             'level 2': ['Augury', 'Calm Emotions', 'Command', 'Invisibility', 'Lesser Restoration'],\n",
    "                             'level 3': ['Mass Healing Word', 'Nondetection', 'Revivify', 'Feign Death', 'Speak with Dead'],\n",
    "                             'level 4': ['Banishment', 'Confusion']}\n",
    "                   }\n",
    "\n",
    "print(player_character['spells']['level 3'])"
   ]
  },
  {
   "cell_type": "markdown",
   "metadata": {},
   "source": [
    "9. Write code to determine the number of unique elements in the list below.  You MUST use a set in finding your solution.  Print the number of unique values in the list with an appropriate label."
   ]
  },
  {
   "cell_type": "code",
   "execution_count": 39,
   "metadata": {},
   "outputs": [],
   "source": [
    "values = [10, 11, 10, 8, 1, 12, 0, 1, 6, 5, 5, 13, 6, 15, 0, 0, 1, 1, 9, 7]"
   ]
  },
  {
   "cell_type": "code",
   "execution_count": 49,
   "metadata": {},
   "outputs": [
    {
     "name": "stdout",
     "output_type": "stream",
     "text": [
      "Unique values in the list:  [0, 1, 5, 6, 7, 8, 9, 10, 11, 12, 13, 15]\n"
     ]
    }
   ],
   "source": [
    "#Function and loop to cycle numbers in the list\n",
    "def unique_number_finder(values):\n",
    "    unique_list = []\n",
    "    unique_numbers = set(values)\n",
    "    \n",
    "    #Unique value loop\n",
    "    for values in unique_numbers:\n",
    "        unique_list.append(values)\n",
    "    return unique_list\n",
    "\n",
    "#Print function\n",
    "print('Unique values in the list: ', unique_number_finder(values))"
   ]
  },
  {
   "cell_type": "code",
   "execution_count": 48,
   "metadata": {},
   "outputs": [
    {
     "name": "stdout",
     "output_type": "stream",
     "text": [
      "0\n"
     ]
    }
   ],
   "source": [
    "print(list.count(unique_number_finder(values)))"
   ]
  },
  {
   "cell_type": "markdown",
   "metadata": {},
   "source": [
    "10. Create a new Jupyter Notebook (the name of the notebook should be your S number). Add a Markdown cell that contains your name. Add a Code cell and write Python that uses loops to draw the following pattern:\n",
    "\n",
    "```\n",
    "*      *\n",
    "**    **\n",
    "***  ***\n",
    "********\n",
    "```\n",
    "Make sure to add and submit both the new notebook and the changes to this notebook for this assignment."
   ]
  },
  {
   "cell_type": "code",
   "execution_count": 41,
   "metadata": {},
   "outputs": [
    {
     "name": "stdout",
     "output_type": "stream",
     "text": [
      "*      *\n",
      "**    **\n",
      "***  ***\n",
      "********\n"
     ]
    }
   ],
   "source": [
    "#Code added here for my own purpose. 10 has been uploaded seperately.\n",
    "\n",
    "for i in range(1,5):\n",
    "  void = 8 - 2*i\n",
    "  for j in range(i):\n",
    "    print('*', end='')\n",
    "  for j in range(void):\n",
    "    print(' ', end='')\n",
    "  for j in range(i):\n",
    "    print('*', end='')\n",
    "  print()"
   ]
  }
 ],
 "metadata": {
  "kernelspec": {
   "display_name": "Python 3.10.8 64-bit (microsoft store)",
   "language": "python",
   "name": "python3"
  },
  "language_info": {
   "codemirror_mode": {
    "name": "ipython",
    "version": 3
   },
   "file_extension": ".py",
   "mimetype": "text/x-python",
   "name": "python",
   "nbconvert_exporter": "python",
   "pygments_lexer": "ipython3",
   "version": "3.10.8"
  },
  "vscode": {
   "interpreter": {
    "hash": "0ae41e45250eb696c2277dfbd939b9be222f957334433f60364f37f2e4b8f76d"
   }
  }
 },
 "nbformat": 4,
 "nbformat_minor": 4
}
